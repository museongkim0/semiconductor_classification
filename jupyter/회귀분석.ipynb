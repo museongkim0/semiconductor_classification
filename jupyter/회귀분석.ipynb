{
 "cells": [
  {
   "cell_type": "code",
   "execution_count": 1,
   "id": "impaired-southeast",
   "metadata": {},
   "outputs": [],
   "source": [
    "import numpy as np"
   ]
  },
  {
   "cell_type": "code",
   "execution_count": 2,
   "id": "verbal-people",
   "metadata": {},
   "outputs": [],
   "source": [
    "X = 2*np.random.rand(100,1)"
   ]
  },
  {
   "cell_type": "code",
   "execution_count": 3,
   "id": "great-joseph",
   "metadata": {},
   "outputs": [],
   "source": [
    "y = 4 + 3*X + np.random.rand(100,1) # y = 4+3x+e e~N(0,1)"
   ]
  },
  {
   "cell_type": "code",
   "execution_count": 4,
   "id": "pointed-success",
   "metadata": {},
   "outputs": [
    {
     "data": {
      "text/plain": [
       "array([[0.64790273],\n",
       "       [1.79638317],\n",
       "       [0.75855574],\n",
       "       [0.08154712],\n",
       "       [0.22176609],\n",
       "       [0.73449903],\n",
       "       [0.2602965 ],\n",
       "       [0.35975946],\n",
       "       [0.23519921],\n",
       "       [0.78498734],\n",
       "       [0.32392022],\n",
       "       [1.26289763],\n",
       "       [1.86123977],\n",
       "       [1.07859898],\n",
       "       [1.82098551],\n",
       "       [0.62721959],\n",
       "       [1.45615654],\n",
       "       [0.74092708],\n",
       "       [0.64618473],\n",
       "       [1.77532061],\n",
       "       [0.13453243],\n",
       "       [1.200175  ],\n",
       "       [0.13485245],\n",
       "       [1.6093833 ],\n",
       "       [1.07159353],\n",
       "       [0.54165583],\n",
       "       [1.26085728],\n",
       "       [0.2717098 ],\n",
       "       [1.47143128],\n",
       "       [0.30139229],\n",
       "       [0.64524913],\n",
       "       [1.32436214],\n",
       "       [0.59866971],\n",
       "       [0.58873359],\n",
       "       [1.95516193],\n",
       "       [1.35961956],\n",
       "       [1.95351579],\n",
       "       [0.57263059],\n",
       "       [0.19879133],\n",
       "       [1.99436822],\n",
       "       [1.84099887],\n",
       "       [1.78397573],\n",
       "       [1.56022777],\n",
       "       [1.19691712],\n",
       "       [1.87462094],\n",
       "       [1.20047481],\n",
       "       [0.57760773],\n",
       "       [1.77826628],\n",
       "       [0.55547481],\n",
       "       [0.92665919],\n",
       "       [1.00156155],\n",
       "       [1.0638523 ],\n",
       "       [0.76293171],\n",
       "       [1.56768493],\n",
       "       [0.16710973],\n",
       "       [0.68929205],\n",
       "       [0.53778009],\n",
       "       [0.42025641],\n",
       "       [1.98897242],\n",
       "       [0.2167485 ],\n",
       "       [0.83633643],\n",
       "       [1.46156439],\n",
       "       [1.60502791],\n",
       "       [0.55810205],\n",
       "       [1.89043633],\n",
       "       [1.13446693],\n",
       "       [1.22333479],\n",
       "       [1.91672085],\n",
       "       [0.08027631],\n",
       "       [0.25548648],\n",
       "       [0.06420774],\n",
       "       [0.10131656],\n",
       "       [1.11355727],\n",
       "       [0.33727125],\n",
       "       [0.1897651 ],\n",
       "       [1.98311349],\n",
       "       [0.80187414],\n",
       "       [0.37352894],\n",
       "       [1.22006855],\n",
       "       [1.18302363],\n",
       "       [1.03791778],\n",
       "       [0.34443293],\n",
       "       [0.96388831],\n",
       "       [1.33755238],\n",
       "       [1.07751716],\n",
       "       [1.73130977],\n",
       "       [1.94461052],\n",
       "       [0.13126903],\n",
       "       [0.93853266],\n",
       "       [0.38633047],\n",
       "       [1.3130995 ],\n",
       "       [0.74755802],\n",
       "       [1.28662078],\n",
       "       [1.4648615 ],\n",
       "       [1.27419208],\n",
       "       [0.85228754],\n",
       "       [1.30698364],\n",
       "       [0.25614332],\n",
       "       [0.96607229],\n",
       "       [1.2757767 ]])"
      ]
     },
     "execution_count": 4,
     "metadata": {},
     "output_type": "execute_result"
    }
   ],
   "source": [
    "X"
   ]
  },
  {
   "cell_type": "markdown",
   "id": "incorrect-insert",
   "metadata": {},
   "source": [
    "### 회귀계수 추정"
   ]
  },
  {
   "cell_type": "code",
   "execution_count": 5,
   "id": "mental-capitol",
   "metadata": {},
   "outputs": [],
   "source": [
    "# 정규방정식\n",
    "# b=[(X^T*X)^(-1)]*[X^T*y]"
   ]
  },
  {
   "cell_type": "code",
   "execution_count": 7,
   "id": "collect-character",
   "metadata": {},
   "outputs": [],
   "source": [
    "X_b = np.c_[np.ones((100,1)),X] # b0 계수1 추가"
   ]
  },
  {
   "cell_type": "code",
   "execution_count": 11,
   "id": "polished-imperial",
   "metadata": {},
   "outputs": [],
   "source": [
    "# optimal beta\n",
    "theta_beta = np.linalg.inv(X_b.T.dot(X_b)).dot(X_b.T).dot(y)"
   ]
  },
  {
   "cell_type": "code",
   "execution_count": 12,
   "id": "written-quilt",
   "metadata": {},
   "outputs": [
    {
     "data": {
      "text/plain": [
       "array([[4.52995941],\n",
       "       [2.94052649]])"
      ]
     },
     "execution_count": 12,
     "metadata": {},
     "output_type": "execute_result"
    }
   ],
   "source": [
    "theta_beta"
   ]
  },
  {
   "cell_type": "markdown",
   "id": "irish-dylan",
   "metadata": {},
   "source": [
    "    추정된 회귀식\n",
    "y = 4.52995941 + 2.94052649*X"
   ]
  },
  {
   "cell_type": "markdown",
   "id": "progressive-paradise",
   "metadata": {},
   "source": [
    "### 예측 y = X_new*theta_beta"
   ]
  },
  {
   "cell_type": "code",
   "execution_count": 14,
   "id": "physical-cleaning",
   "metadata": {},
   "outputs": [],
   "source": [
    "X_new = np.array(([0],[2]))"
   ]
  },
  {
   "cell_type": "code",
   "execution_count": 15,
   "id": "dated-waterproof",
   "metadata": {},
   "outputs": [],
   "source": [
    "X_new_b = np.c_[np.ones((2,1)),X_new]"
   ]
  },
  {
   "cell_type": "code",
   "execution_count": 16,
   "id": "computational-russia",
   "metadata": {},
   "outputs": [],
   "source": [
    "y_predict = X_new_b.dot(theta_beta)"
   ]
  },
  {
   "cell_type": "code",
   "execution_count": 17,
   "id": "strategic-generic",
   "metadata": {},
   "outputs": [
    {
     "data": {
      "text/plain": [
       "array([[ 4.52995941],\n",
       "       [10.41101239]])"
      ]
     },
     "execution_count": 17,
     "metadata": {},
     "output_type": "execute_result"
    }
   ],
   "source": [
    "y_predict"
   ]
  },
  {
   "cell_type": "code",
   "execution_count": 18,
   "id": "moving-popularity",
   "metadata": {},
   "outputs": [],
   "source": [
    "import matplotlib.pyplot as plt"
   ]
  },
  {
   "cell_type": "code",
   "execution_count": 22,
   "id": "attended-legislature",
   "metadata": {
    "scrolled": true
   },
   "outputs": [
    {
     "data": {
      "image/png": "[encoded data removed]",
      "text/plain": [
       "<Figure size 432x288 with 1 Axes>"
      ]
     },
     "metadata": {
      "needs_background": "light"
     },
     "output_type": "display_data"
    }
   ],
   "source": [
    "plt.plot(X_new,y_predict,'r-') # 새로운 데이터의 예측 값\n",
    "plt.plot(X,y,'b.')\n",
    "plt.axis([0,2,2,13])\n",
    "plt.show()"
   ]
  },
  {
   "cell_type": "markdown",
   "id": "authentic-radius",
   "metadata": {},
   "source": [
    "### sklearn이용하기"
   ]
  },
  {
   "cell_type": "code",
   "execution_count": 23,
   "id": "fitting-guess",
   "metadata": {},
   "outputs": [],
   "source": [
    "from sklearn.linear_model import LinearRegression"
   ]
  },
  {
   "cell_type": "code",
   "execution_count": 24,
   "id": "vietnamese-cisco",
   "metadata": {},
   "outputs": [],
   "source": [
    "lin_reg = LinearRegression()"
   ]
  },
  {
   "cell_type": "code",
   "execution_count": 25,
   "id": "involved-provision",
   "metadata": {},
   "outputs": [
    {
     "data": {
      "text/plain": [
       "LinearRegression()"
      ]
     },
     "execution_count": 25,
     "metadata": {},
     "output_type": "execute_result"
    }
   ],
   "source": [
    "lin_reg.fit(X,y)"
   ]
  },
  {
   "cell_type": "code",
   "execution_count": 26,
   "id": "laden-missouri",
   "metadata": {},
   "outputs": [
    {
     "data": {
      "text/plain": [
       "array([4.52995941])"
      ]
     },
     "execution_count": 26,
     "metadata": {},
     "output_type": "execute_result"
    }
   ],
   "source": [
    "lin_reg.intercept_"
   ]
  },
  {
   "cell_type": "code",
   "execution_count": 27,
   "id": "written-salvation",
   "metadata": {},
   "outputs": [
    {
     "data": {
      "text/plain": [
       "array([[2.94052649]])"
      ]
     },
     "execution_count": 27,
     "metadata": {},
     "output_type": "execute_result"
    }
   ],
   "source": [
    "lin_reg.coef_"
   ]
  },
  {
   "cell_type": "code",
   "execution_count": 28,
   "id": "revised-wiring",
   "metadata": {},
   "outputs": [
    {
     "data": {
      "text/plain": [
       "array([[ 4.52995941],\n",
       "       [10.41101239]])"
      ]
     },
     "execution_count": 28,
     "metadata": {},
     "output_type": "execute_result"
    }
   ],
   "source": [
    "lin_reg.predict(X_new)"
   ]
  },
  {
   "cell_type": "markdown",
   "id": "plain-trial",
   "metadata": {},
   "source": [
    "## 다항회귀\n",
    "- NOTE. 선형회귀모형은 파라미터가 선형인 모델이다.\n",
    "- y=beta_0+beta_1X1+beta_2X2^2는 선형회귀 모델인가?"
   ]
  },
  {
   "cell_type": "code",
   "execution_count": 29,
   "id": "local-sheet",
   "metadata": {},
   "outputs": [],
   "source": [
    "import numpy.random as rnd"
   ]
  },
  {
   "cell_type": "code",
   "execution_count": 30,
   "id": "verbal-confidence",
   "metadata": {},
   "outputs": [],
   "source": [
    "np.random.seed(42)"
   ]
  },
  {
   "cell_type": "code",
   "execution_count": 34,
   "id": "physical-operations",
   "metadata": {},
   "outputs": [],
   "source": [
    "# 데이터생성\n",
    "m = 100\n",
    "X = 6*rnd.rand(m,1)-3 # 6*(0,1)-3 -> -3,3\n",
    "y = 0.5*X**2 + X + 2 + rnd.randn(m,1) # y=0.5*X^2+X+2+error(0,1)"
   ]
  },
  {
   "cell_type": "code",
   "execution_count": 33,
   "id": "north-speed",
   "metadata": {},
   "outputs": [
    {
     "data": {
      "image/png": "[encoded data removed]",
      "text/plain": [
       "<Figure size 432x288 with 1 Axes>"
      ]
     },
     "metadata": {
      "needs_background": "light"
     },
     "output_type": "display_data"
    }
   ],
   "source": [
    "plt.plot(X,y,'b.')\n",
    "plt.xlabel(\"$x_1$\", fontsize =18)\n",
    "plt.ylabel(\"$y$\", rotation=0, fontsize=18)\n",
    "plt.axis([-3,3,0,10])\n",
    "#save_fig(\"quadratic_data_plot\")\n",
    "plt.show()"
   ]
  },
  {
   "cell_type": "code",
   "execution_count": 35,
   "id": "specific-table",
   "metadata": {},
   "outputs": [],
   "source": [
    "# 모델학습 (다항회귀모델)\n",
    "from sklearn.preprocessing import PolynomialFeatures"
   ]
  },
  {
   "cell_type": "code",
   "execution_count": 36,
   "id": "universal-aluminum",
   "metadata": {},
   "outputs": [],
   "source": [
    "poly_features = PolynomialFeatures(degree=2, include_bias=False)\n",
    "X_poly = poly_features.fit_transform(X)"
   ]
  },
  {
   "cell_type": "code",
   "execution_count": 37,
   "id": "laughing-skiing",
   "metadata": {},
   "outputs": [
    {
     "data": {
      "text/plain": [
       "array([-2.93187813])"
      ]
     },
     "execution_count": 37,
     "metadata": {},
     "output_type": "execute_result"
    }
   ],
   "source": [
    "X[0]"
   ]
  },
  {
   "cell_type": "code",
   "execution_count": 38,
   "id": "minimal-radio",
   "metadata": {},
   "outputs": [
    {
     "data": {
      "text/plain": [
       "array([-2.93187813,  8.59590938])"
      ]
     },
     "execution_count": 38,
     "metadata": {},
     "output_type": "execute_result"
    }
   ],
   "source": [
    "X_poly[0]"
   ]
  },
  {
   "cell_type": "code",
   "execution_count": 39,
   "id": "academic-addition",
   "metadata": {},
   "outputs": [
    {
     "data": {
      "text/plain": [
       "LinearRegression()"
      ]
     },
     "execution_count": 39,
     "metadata": {},
     "output_type": "execute_result"
    }
   ],
   "source": [
    "lin_reg.fit(X_poly, y)"
   ]
  },
  {
   "cell_type": "code",
   "execution_count": 40,
   "id": "tutorial-chase",
   "metadata": {},
   "outputs": [
    {
     "data": {
      "text/plain": [
       "(array([1.9326696]), array([[0.99165946, 0.48476612]]))"
      ]
     },
     "execution_count": 40,
     "metadata": {},
     "output_type": "execute_result"
    }
   ],
   "source": [
    "lin_reg.intercept_, lin_reg.coef_"
   ]
  },
  {
   "cell_type": "markdown",
   "id": "collectible-cologne",
   "metadata": {},
   "source": [
    "    추정된 회귀식\n",
    "y = 0.48476612X^2 + 0.99165946X + 1.9326696"
   ]
  },
  {
   "cell_type": "markdown",
   "id": "direct-private",
   "metadata": {},
   "source": [
    "### 학습곡선\n",
    "- 항의 degree를 바꿔가며 적합한 degree찾기\n",
    "- 학습 데이터와 검증 데이터 나누어 MSE비교"
   ]
  },
  {
   "cell_type": "code",
   "execution_count": 42,
   "id": "typical-average",
   "metadata": {},
   "outputs": [],
   "source": [
    "from sklearn.metrics import mean_squared_error\n",
    "from sklearn.model_selection import train_test_split\n",
    "\n",
    "def plot_learning_curves(model,X,y):\n",
    "    X_train, X_val, y_train, y_val = train_test_split(X,y,test_size=0.2,random_state=10)\n",
    "    train_errors, val_errors = [], []\n",
    "    for m in range(1, len(X_train)):\n",
    "        model.fit(X_train[:m], y_train[:m])\n",
    "        y_train_predict = model.predict(X_train[:m])\n",
    "        y_val_predict = model.predict(X_val)\n",
    "        train_errors.append(mean_squared_error(y_train[:m],y_train_predict))\n",
    "        val_errors.append(mean_squared_error(y_val, y_val_predict))\n",
    "        \n",
    "    plt.plot(np.sqrt(train_errors),\"r-+\",linewidth=2,label=\"train\")\n",
    "    plt.plot(np.sqrt(val_errors),\"b-\",linewidth=3,label=\"val\")\n",
    "    plt.legend(loc=\"upper right\",fontsize=14) # not shown in the book\n",
    "    plt.xlabel(\"Training set size\", fontsize=14) # not shown\n",
    "    plt.ylabel(\"RMSE\",fontsize=14) # not shown"
   ]
  },
  {
   "cell_type": "code",
   "execution_count": 45,
   "id": "iraqi-substitute",
   "metadata": {},
   "outputs": [
    {
     "data": {
      "image/png": "[encoded data removed]",
      "text/plain": [
       "<Figure size 432x288 with 1 Axes>"
      ]
     },
     "metadata": {
      "needs_background": "light"
     },
     "output_type": "display_data"
    }
   ],
   "source": [
    "plot_learning_curves(lin_reg,X,y) # 과적합 X\n",
    "plt.show()"
   ]
  },
  {
   "cell_type": "code",
   "execution_count": 46,
   "id": "suitable-german",
   "metadata": {},
   "outputs": [
    {
     "data": {
      "image/png": "[encoded data removed]",
      "text/plain": [
       "<Figure size 432x288 with 1 Axes>"
      ]
     },
     "metadata": {
      "needs_background": "light"
     },
     "output_type": "display_data"
    }
   ],
   "source": [
    "from sklearn.pipeline import Pipeline\n",
    "\n",
    "polynomial_regression = Pipeline([\n",
    "    (\"poly_features\",PolynomialFeatures(degree=10,include_bias=False)),\n",
    "    (\"lin_reg\",LinearRegression())])\n",
    "\n",
    "plot_learning_curves(polynomial_regression,X,y)\n",
    "plt.axis([0,80,0,3])\n",
    "plt.show()"
   ]
  },
  {
   "cell_type": "markdown",
   "id": "planned-humanitarian",
   "metadata": {},
   "source": [
    "MSE = Bias^2(편향) + Var(변동성) 둘은 trade-off관계\n",
    "- 모델이 복잡하면 bias 하락 var 높음 불안정 -> 과대적합\n",
    "- 모델이 naive하면 bias 상승 var 낮음 안정적 -> x"
   ]
  },
  {
   "cell_type": "markdown",
   "id": "occupational-harbor",
   "metadata": {},
   "source": [
    "## 정규화"
   ]
  },
  {
   "cell_type": "code",
   "execution_count": 1,
   "id": "recovered-counter",
   "metadata": {},
   "outputs": [],
   "source": [
    "import numpy as np\n",
    "import numpy.random as rnd\n",
    "# 데이터 생성\n",
    "m = 100\n",
    "X = 6*rnd.rand(m,1)-3 # 6*(0,1)-3 -> -3,3\n",
    "y = 0.5*X**2 + X + 2 + rnd.randn(m,1) # y=0.5*X^2+X+2+error(0,1)"
   ]
  },
  {
   "cell_type": "code",
   "execution_count": 4,
   "id": "large-origin",
   "metadata": {},
   "outputs": [
    {
     "data": {
      "text/plain": [
       "array([[5.21055813]])"
      ]
     },
     "execution_count": 4,
     "metadata": {},
     "output_type": "execute_result"
    }
   ],
   "source": [
    "from sklearn.linear_model import Ridge\n",
    "ridge_reg = Ridge(alpha = 1, solver = 'cholesky')\n",
    "ridge_reg.fit(X,y)\n",
    "ridge_reg.predict([[1.5]])"
   ]
  },
  {
   "cell_type": "code",
   "execution_count": 12,
   "id": "russian-contents",
   "metadata": {},
   "outputs": [
    {
     "ename": "ValueError",
     "evalue": "Penalty 12 is not supported. ",
     "output_type": "error",
     "traceback": [
      "\u001b[1;31m---------------------------------------------------------------------------\u001b[0m",
      "\u001b[1;31mKeyError\u001b[0m                                  Traceback (most recent call last)",
      "\u001b[1;32m~\\anaconda3\\lib\\site-packages\\sklearn\\linear_model\\_stochastic_gradient.py\u001b[0m in \u001b[0;36m_get_penalty_type\u001b[1;34m(self, penalty)\u001b[0m\n\u001b[0;32m    179\u001b[0m         \u001b[1;32mtry\u001b[0m\u001b[1;33m:\u001b[0m\u001b[1;33m\u001b[0m\u001b[1;33m\u001b[0m\u001b[0m\n\u001b[1;32m--> 180\u001b[1;33m             \u001b[1;32mreturn\u001b[0m \u001b[0mPENALTY_TYPES\u001b[0m\u001b[1;33m[\u001b[0m\u001b[0mpenalty\u001b[0m\u001b[1;33m]\u001b[0m\u001b[1;33m\u001b[0m\u001b[1;33m\u001b[0m\u001b[0m\n\u001b[0m\u001b[0;32m    181\u001b[0m         \u001b[1;32mexcept\u001b[0m \u001b[0mKeyError\u001b[0m \u001b[1;32mas\u001b[0m \u001b[0me\u001b[0m\u001b[1;33m:\u001b[0m\u001b[1;33m\u001b[0m\u001b[1;33m\u001b[0m\u001b[0m\n",
      "\u001b[1;31mKeyError\u001b[0m: '12'",
      "\nThe above exception was the direct cause of the following exception:\n",
      "\u001b[1;31mValueError\u001b[0m                                Traceback (most recent call last)",
      "\u001b[1;32m<ipython-input-12-5203eb04dc8f>\u001b[0m in \u001b[0;36m<module>\u001b[1;34m\u001b[0m\n\u001b[0;32m      1\u001b[0m \u001b[1;32mfrom\u001b[0m \u001b[0msklearn\u001b[0m\u001b[1;33m.\u001b[0m\u001b[0mlinear_model\u001b[0m \u001b[1;32mimport\u001b[0m \u001b[0mSGDRegressor\u001b[0m\u001b[1;33m\u001b[0m\u001b[1;33m\u001b[0m\u001b[0m\n\u001b[1;32m----> 2\u001b[1;33m \u001b[0msgd_reg\u001b[0m \u001b[1;33m=\u001b[0m \u001b[0mSGDRegressor\u001b[0m\u001b[1;33m(\u001b[0m\u001b[0mpenalty\u001b[0m\u001b[1;33m=\u001b[0m\u001b[1;34m\"12\"\u001b[0m\u001b[1;33m,\u001b[0m\u001b[0mmax_iter\u001b[0m\u001b[1;33m=\u001b[0m\u001b[1;36m1000\u001b[0m\u001b[1;33m,\u001b[0m\u001b[0mtol\u001b[0m\u001b[1;33m=\u001b[0m\u001b[1;36m1e-3\u001b[0m\u001b[1;33m,\u001b[0m\u001b[0mrandom_state\u001b[0m\u001b[1;33m=\u001b[0m\u001b[1;36m42\u001b[0m\u001b[1;33m)\u001b[0m\u001b[1;33m\u001b[0m\u001b[1;33m\u001b[0m\u001b[0m\n\u001b[0m\u001b[0;32m      3\u001b[0m \u001b[0msgd_reg\u001b[0m\u001b[1;33m.\u001b[0m\u001b[0mfit\u001b[0m\u001b[1;33m(\u001b[0m\u001b[0mX\u001b[0m\u001b[1;33m,\u001b[0m\u001b[0my\u001b[0m\u001b[1;33m)\u001b[0m\u001b[1;33m\u001b[0m\u001b[1;33m\u001b[0m\u001b[0m\n\u001b[0;32m      4\u001b[0m \u001b[0msgd_reg\u001b[0m\u001b[1;33m.\u001b[0m\u001b[0mpredict\u001b[0m\u001b[1;33m(\u001b[0m\u001b[1;33m[\u001b[0m\u001b[1;33m[\u001b[0m\u001b[1;36m1.5\u001b[0m\u001b[1;33m]\u001b[0m\u001b[1;33m]\u001b[0m\u001b[1;33m)\u001b[0m\u001b[1;33m\u001b[0m\u001b[1;33m\u001b[0m\u001b[0m\n",
      "\u001b[1;32m~\\anaconda3\\lib\\site-packages\\sklearn\\utils\\validation.py\u001b[0m in \u001b[0;36minner_f\u001b[1;34m(*args, **kwargs)\u001b[0m\n\u001b[0;32m     61\u001b[0m             \u001b[0mextra_args\u001b[0m \u001b[1;33m=\u001b[0m \u001b[0mlen\u001b[0m\u001b[1;33m(\u001b[0m\u001b[0margs\u001b[0m\u001b[1;33m)\u001b[0m \u001b[1;33m-\u001b[0m \u001b[0mlen\u001b[0m\u001b[1;33m(\u001b[0m\u001b[0mall_args\u001b[0m\u001b[1;33m)\u001b[0m\u001b[1;33m\u001b[0m\u001b[1;33m\u001b[0m\u001b[0m\n\u001b[0;32m     62\u001b[0m             \u001b[1;32mif\u001b[0m \u001b[0mextra_args\u001b[0m \u001b[1;33m<=\u001b[0m \u001b[1;36m0\u001b[0m\u001b[1;33m:\u001b[0m\u001b[1;33m\u001b[0m\u001b[1;33m\u001b[0m\u001b[0m\n\u001b[1;32m---> 63\u001b[1;33m                 \u001b[1;32mreturn\u001b[0m \u001b[0mf\u001b[0m\u001b[1;33m(\u001b[0m\u001b[1;33m*\u001b[0m\u001b[0margs\u001b[0m\u001b[1;33m,\u001b[0m \u001b[1;33m**\u001b[0m\u001b[0mkwargs\u001b[0m\u001b[1;33m)\u001b[0m\u001b[1;33m\u001b[0m\u001b[1;33m\u001b[0m\u001b[0m\n\u001b[0m\u001b[0;32m     64\u001b[0m \u001b[1;33m\u001b[0m\u001b[0m\n\u001b[0;32m     65\u001b[0m             \u001b[1;31m# extra_args > 0\u001b[0m\u001b[1;33m\u001b[0m\u001b[1;33m\u001b[0m\u001b[1;33m\u001b[0m\u001b[0m\n",
      "\u001b[1;32m~\\anaconda3\\lib\\site-packages\\sklearn\\linear_model\\_stochastic_gradient.py\u001b[0m in \u001b[0;36m__init__\u001b[1;34m(self, loss, penalty, alpha, l1_ratio, fit_intercept, max_iter, tol, shuffle, verbose, epsilon, random_state, learning_rate, eta0, power_t, early_stopping, validation_fraction, n_iter_no_change, warm_start, average)\u001b[0m\n\u001b[0;32m   1580\u001b[0m                  \u001b[0mpower_t\u001b[0m\u001b[1;33m=\u001b[0m\u001b[1;36m0.25\u001b[0m\u001b[1;33m,\u001b[0m \u001b[0mearly_stopping\u001b[0m\u001b[1;33m=\u001b[0m\u001b[1;32mFalse\u001b[0m\u001b[1;33m,\u001b[0m \u001b[0mvalidation_fraction\u001b[0m\u001b[1;33m=\u001b[0m\u001b[1;36m0.1\u001b[0m\u001b[1;33m,\u001b[0m\u001b[1;33m\u001b[0m\u001b[1;33m\u001b[0m\u001b[0m\n\u001b[0;32m   1581\u001b[0m                  n_iter_no_change=5, warm_start=False, average=False):\n\u001b[1;32m-> 1582\u001b[1;33m         super().__init__(\n\u001b[0m\u001b[0;32m   1583\u001b[0m             \u001b[0mloss\u001b[0m\u001b[1;33m=\u001b[0m\u001b[0mloss\u001b[0m\u001b[1;33m,\u001b[0m \u001b[0mpenalty\u001b[0m\u001b[1;33m=\u001b[0m\u001b[0mpenalty\u001b[0m\u001b[1;33m,\u001b[0m \u001b[0malpha\u001b[0m\u001b[1;33m=\u001b[0m\u001b[0malpha\u001b[0m\u001b[1;33m,\u001b[0m \u001b[0ml1_ratio\u001b[0m\u001b[1;33m=\u001b[0m\u001b[0ml1_ratio\u001b[0m\u001b[1;33m,\u001b[0m\u001b[1;33m\u001b[0m\u001b[1;33m\u001b[0m\u001b[0m\n\u001b[0;32m   1584\u001b[0m             \u001b[0mfit_intercept\u001b[0m\u001b[1;33m=\u001b[0m\u001b[0mfit_intercept\u001b[0m\u001b[1;33m,\u001b[0m \u001b[0mmax_iter\u001b[0m\u001b[1;33m=\u001b[0m\u001b[0mmax_iter\u001b[0m\u001b[1;33m,\u001b[0m \u001b[0mtol\u001b[0m\u001b[1;33m=\u001b[0m\u001b[0mtol\u001b[0m\u001b[1;33m,\u001b[0m\u001b[1;33m\u001b[0m\u001b[1;33m\u001b[0m\u001b[0m\n",
      "\u001b[1;32m~\\anaconda3\\lib\\site-packages\\sklearn\\utils\\validation.py\u001b[0m in \u001b[0;36minner_f\u001b[1;34m(*args, **kwargs)\u001b[0m\n\u001b[0;32m     61\u001b[0m             \u001b[0mextra_args\u001b[0m \u001b[1;33m=\u001b[0m \u001b[0mlen\u001b[0m\u001b[1;33m(\u001b[0m\u001b[0margs\u001b[0m\u001b[1;33m)\u001b[0m \u001b[1;33m-\u001b[0m \u001b[0mlen\u001b[0m\u001b[1;33m(\u001b[0m\u001b[0mall_args\u001b[0m\u001b[1;33m)\u001b[0m\u001b[1;33m\u001b[0m\u001b[1;33m\u001b[0m\u001b[0m\n\u001b[0;32m     62\u001b[0m             \u001b[1;32mif\u001b[0m \u001b[0mextra_args\u001b[0m \u001b[1;33m<=\u001b[0m \u001b[1;36m0\u001b[0m\u001b[1;33m:\u001b[0m\u001b[1;33m\u001b[0m\u001b[1;33m\u001b[0m\u001b[0m\n\u001b[1;32m---> 63\u001b[1;33m                 \u001b[1;32mreturn\u001b[0m \u001b[0mf\u001b[0m\u001b[1;33m(\u001b[0m\u001b[1;33m*\u001b[0m\u001b[0margs\u001b[0m\u001b[1;33m,\u001b[0m \u001b[1;33m**\u001b[0m\u001b[0mkwargs\u001b[0m\u001b[1;33m)\u001b[0m\u001b[1;33m\u001b[0m\u001b[1;33m\u001b[0m\u001b[0m\n\u001b[0m\u001b[0;32m     64\u001b[0m \u001b[1;33m\u001b[0m\u001b[0m\n\u001b[0;32m     65\u001b[0m             \u001b[1;31m# extra_args > 0\u001b[0m\u001b[1;33m\u001b[0m\u001b[1;33m\u001b[0m\u001b[1;33m\u001b[0m\u001b[0m\n",
      "\u001b[1;32m~\\anaconda3\\lib\\site-packages\\sklearn\\linear_model\\_stochastic_gradient.py\u001b[0m in \u001b[0;36m__init__\u001b[1;34m(self, loss, penalty, alpha, l1_ratio, fit_intercept, max_iter, tol, shuffle, verbose, epsilon, random_state, learning_rate, eta0, power_t, early_stopping, validation_fraction, n_iter_no_change, warm_start, average)\u001b[0m\n\u001b[0;32m   1127\u001b[0m                  \u001b[0mpower_t\u001b[0m\u001b[1;33m=\u001b[0m\u001b[1;36m0.25\u001b[0m\u001b[1;33m,\u001b[0m \u001b[0mearly_stopping\u001b[0m\u001b[1;33m=\u001b[0m\u001b[1;32mFalse\u001b[0m\u001b[1;33m,\u001b[0m \u001b[0mvalidation_fraction\u001b[0m\u001b[1;33m=\u001b[0m\u001b[1;36m0.1\u001b[0m\u001b[1;33m,\u001b[0m\u001b[1;33m\u001b[0m\u001b[1;33m\u001b[0m\u001b[0m\n\u001b[0;32m   1128\u001b[0m                  n_iter_no_change=5, warm_start=False, average=False):\n\u001b[1;32m-> 1129\u001b[1;33m         super().__init__(\n\u001b[0m\u001b[0;32m   1130\u001b[0m             \u001b[0mloss\u001b[0m\u001b[1;33m=\u001b[0m\u001b[0mloss\u001b[0m\u001b[1;33m,\u001b[0m \u001b[0mpenalty\u001b[0m\u001b[1;33m=\u001b[0m\u001b[0mpenalty\u001b[0m\u001b[1;33m,\u001b[0m \u001b[0malpha\u001b[0m\u001b[1;33m=\u001b[0m\u001b[0malpha\u001b[0m\u001b[1;33m,\u001b[0m \u001b[0ml1_ratio\u001b[0m\u001b[1;33m=\u001b[0m\u001b[0ml1_ratio\u001b[0m\u001b[1;33m,\u001b[0m\u001b[1;33m\u001b[0m\u001b[1;33m\u001b[0m\u001b[0m\n\u001b[0;32m   1131\u001b[0m             \u001b[0mfit_intercept\u001b[0m\u001b[1;33m=\u001b[0m\u001b[0mfit_intercept\u001b[0m\u001b[1;33m,\u001b[0m \u001b[0mmax_iter\u001b[0m\u001b[1;33m=\u001b[0m\u001b[0mmax_iter\u001b[0m\u001b[1;33m,\u001b[0m \u001b[0mtol\u001b[0m\u001b[1;33m=\u001b[0m\u001b[0mtol\u001b[0m\u001b[1;33m,\u001b[0m\u001b[1;33m\u001b[0m\u001b[1;33m\u001b[0m\u001b[0m\n",
      "\u001b[1;32m~\\anaconda3\\lib\\site-packages\\sklearn\\utils\\validation.py\u001b[0m in \u001b[0;36minner_f\u001b[1;34m(*args, **kwargs)\u001b[0m\n\u001b[0;32m     61\u001b[0m             \u001b[0mextra_args\u001b[0m \u001b[1;33m=\u001b[0m \u001b[0mlen\u001b[0m\u001b[1;33m(\u001b[0m\u001b[0margs\u001b[0m\u001b[1;33m)\u001b[0m \u001b[1;33m-\u001b[0m \u001b[0mlen\u001b[0m\u001b[1;33m(\u001b[0m\u001b[0mall_args\u001b[0m\u001b[1;33m)\u001b[0m\u001b[1;33m\u001b[0m\u001b[1;33m\u001b[0m\u001b[0m\n\u001b[0;32m     62\u001b[0m             \u001b[1;32mif\u001b[0m \u001b[0mextra_args\u001b[0m \u001b[1;33m<=\u001b[0m \u001b[1;36m0\u001b[0m\u001b[1;33m:\u001b[0m\u001b[1;33m\u001b[0m\u001b[1;33m\u001b[0m\u001b[0m\n\u001b[1;32m---> 63\u001b[1;33m                 \u001b[1;32mreturn\u001b[0m \u001b[0mf\u001b[0m\u001b[1;33m(\u001b[0m\u001b[1;33m*\u001b[0m\u001b[0margs\u001b[0m\u001b[1;33m,\u001b[0m \u001b[1;33m**\u001b[0m\u001b[0mkwargs\u001b[0m\u001b[1;33m)\u001b[0m\u001b[1;33m\u001b[0m\u001b[1;33m\u001b[0m\u001b[0m\n\u001b[0m\u001b[0;32m     64\u001b[0m \u001b[1;33m\u001b[0m\u001b[0m\n\u001b[0;32m     65\u001b[0m             \u001b[1;31m# extra_args > 0\u001b[0m\u001b[1;33m\u001b[0m\u001b[1;33m\u001b[0m\u001b[1;33m\u001b[0m\u001b[0m\n",
      "\u001b[1;32m~\\anaconda3\\lib\\site-packages\\sklearn\\linear_model\\_stochastic_gradient.py\u001b[0m in \u001b[0;36m__init__\u001b[1;34m(self, loss, penalty, alpha, C, l1_ratio, fit_intercept, max_iter, tol, shuffle, verbose, epsilon, random_state, learning_rate, eta0, power_t, early_stopping, validation_fraction, n_iter_no_change, warm_start, average)\u001b[0m\n\u001b[0;32m    100\u001b[0m         \u001b[1;31m# current tests expect init to do parameter validation\u001b[0m\u001b[1;33m\u001b[0m\u001b[1;33m\u001b[0m\u001b[1;33m\u001b[0m\u001b[0m\n\u001b[0;32m    101\u001b[0m         \u001b[1;31m# but we are not allowed to set attributes\u001b[0m\u001b[1;33m\u001b[0m\u001b[1;33m\u001b[0m\u001b[1;33m\u001b[0m\u001b[0m\n\u001b[1;32m--> 102\u001b[1;33m         \u001b[0mself\u001b[0m\u001b[1;33m.\u001b[0m\u001b[0m_validate_params\u001b[0m\u001b[1;33m(\u001b[0m\u001b[1;33m)\u001b[0m\u001b[1;33m\u001b[0m\u001b[1;33m\u001b[0m\u001b[0m\n\u001b[0m\u001b[0;32m    103\u001b[0m \u001b[1;33m\u001b[0m\u001b[0m\n\u001b[0;32m    104\u001b[0m     \u001b[1;32mdef\u001b[0m \u001b[0mset_params\u001b[0m\u001b[1;33m(\u001b[0m\u001b[0mself\u001b[0m\u001b[1;33m,\u001b[0m \u001b[1;33m**\u001b[0m\u001b[0mkwargs\u001b[0m\u001b[1;33m)\u001b[0m\u001b[1;33m:\u001b[0m\u001b[1;33m\u001b[0m\u001b[1;33m\u001b[0m\u001b[0m\n",
      "\u001b[1;32m~\\anaconda3\\lib\\site-packages\\sklearn\\linear_model\\_stochastic_gradient.py\u001b[0m in \u001b[0;36m_validate_params\u001b[1;34m(self, for_partial_fit)\u001b[0m\n\u001b[0;32m    150\u001b[0m \u001b[1;33m\u001b[0m\u001b[0m\n\u001b[0;32m    151\u001b[0m         \u001b[1;31m# raises ValueError if not registered\u001b[0m\u001b[1;33m\u001b[0m\u001b[1;33m\u001b[0m\u001b[1;33m\u001b[0m\u001b[0m\n\u001b[1;32m--> 152\u001b[1;33m         \u001b[0mself\u001b[0m\u001b[1;33m.\u001b[0m\u001b[0m_get_penalty_type\u001b[0m\u001b[1;33m(\u001b[0m\u001b[0mself\u001b[0m\u001b[1;33m.\u001b[0m\u001b[0mpenalty\u001b[0m\u001b[1;33m)\u001b[0m\u001b[1;33m\u001b[0m\u001b[1;33m\u001b[0m\u001b[0m\n\u001b[0m\u001b[0;32m    153\u001b[0m         \u001b[0mself\u001b[0m\u001b[1;33m.\u001b[0m\u001b[0m_get_learning_rate_type\u001b[0m\u001b[1;33m(\u001b[0m\u001b[0mself\u001b[0m\u001b[1;33m.\u001b[0m\u001b[0mlearning_rate\u001b[0m\u001b[1;33m)\u001b[0m\u001b[1;33m\u001b[0m\u001b[1;33m\u001b[0m\u001b[0m\n\u001b[0;32m    154\u001b[0m \u001b[1;33m\u001b[0m\u001b[0m\n",
      "\u001b[1;32m~\\anaconda3\\lib\\site-packages\\sklearn\\linear_model\\_stochastic_gradient.py\u001b[0m in \u001b[0;36m_get_penalty_type\u001b[1;34m(self, penalty)\u001b[0m\n\u001b[0;32m    180\u001b[0m             \u001b[1;32mreturn\u001b[0m \u001b[0mPENALTY_TYPES\u001b[0m\u001b[1;33m[\u001b[0m\u001b[0mpenalty\u001b[0m\u001b[1;33m]\u001b[0m\u001b[1;33m\u001b[0m\u001b[1;33m\u001b[0m\u001b[0m\n\u001b[0;32m    181\u001b[0m         \u001b[1;32mexcept\u001b[0m \u001b[0mKeyError\u001b[0m \u001b[1;32mas\u001b[0m \u001b[0me\u001b[0m\u001b[1;33m:\u001b[0m\u001b[1;33m\u001b[0m\u001b[1;33m\u001b[0m\u001b[0m\n\u001b[1;32m--> 182\u001b[1;33m             \u001b[1;32mraise\u001b[0m \u001b[0mValueError\u001b[0m\u001b[1;33m(\u001b[0m\u001b[1;34m\"Penalty %s is not supported. \"\u001b[0m \u001b[1;33m%\u001b[0m \u001b[0mpenalty\u001b[0m\u001b[1;33m)\u001b[0m \u001b[1;32mfrom\u001b[0m \u001b[0me\u001b[0m\u001b[1;33m\u001b[0m\u001b[1;33m\u001b[0m\u001b[0m\n\u001b[0m\u001b[0;32m    183\u001b[0m \u001b[1;33m\u001b[0m\u001b[0m\n\u001b[0;32m    184\u001b[0m     def _allocate_parameter_mem(self, n_classes, n_features, coef_init=None,\n",
      "\u001b[1;31mValueError\u001b[0m: Penalty 12 is not supported. "
     ]
    }
   ],
   "source": [
    "from sklearn.linear_model import SGDRegressor\n",
    "sgd_reg = SGDRegressor(penalty=\"12\",max_iter=1000,tol=1e-3,random_state=42)\n",
    "sgd_reg.fit(X,y.label())\n",
    "sgd_reg.predict([[1.5]])"
   ]
  },
  {
   "cell_type": "code",
   "execution_count": 10,
   "id": "ideal-dutch",
   "metadata": {},
   "outputs": [
    {
     "data": {
      "text/plain": [
       "array([5.1695957])"
      ]
     },
     "execution_count": 10,
     "metadata": {},
     "output_type": "execute_result"
    }
   ],
   "source": [
    "from sklearn.linear_model import Lasso\n",
    "lasso_reg = Lasso(alpha=0.1)\n",
    "lasso_reg.fit(X,y)\n",
    "lasso_reg.predict([[1.5]])"
   ]
  },
  {
   "cell_type": "code",
   "execution_count": 11,
   "id": "comparable-incident",
   "metadata": {},
   "outputs": [
    {
     "data": {
      "text/plain": [
       "array([5.16758045])"
      ]
     },
     "execution_count": 11,
     "metadata": {},
     "output_type": "execute_result"
    }
   ],
   "source": [
    "from sklearn.linear_model import ElasticNet\n",
    "elastic_net = ElasticNet(alpha = 0.1,l1_ratio = 0.5, random_state=42)\n",
    "elastic_net.fit(X,y)\n",
    "elastic_net.predict([[1.5]])"
   ]
  },
  {
   "cell_type": "markdown",
   "id": "vulnerable-condition",
   "metadata": {},
   "source": [
    "## 로지스틱 회귀분석\n",
    "### Iris 데이터셋\n",
    "데이터 설명: 아이리스(붓꽃) 데이터에 대한 데이터이다. 꽃잎의 각 부분의 너비와 길이등을 측정한 데이터이며 150개의 레코드로 구성되어 있다. 아이리스 꽃은 아래의 그림과 같다. 프랑스의 국화라고 한다."
   ]
  },
  {
   "cell_type": "markdown",
   "id": "civic-aspect",
   "metadata": {},
   "source": [
    "필드의 이해:\n",
    "- 데이터의 이해를 돕기 위해 포함된 6개의 변수에 대하여 간략하게 설명한다.\n",
    "- 총 6개의 필드로 구성되어있다. caseno는 단지 순서를 표시하므로 분석에서 당연히 제외한다.\n",
    "- 2번째부터 5번쨰의 4개의 필드는 입력변수로 사용되고, 맨 아래의 Species 속성이 목표(종속) 변수로 사용된다.\n",
    "- Sepal Length 꽃받침의 길이 정보이다.\n",
    "- Sepla Width 꽃받침의 너비 정보이다.\n",
    "- Petal Length 꽃잎의 길이 정보이다.\n",
    "- Petal Width 꽃잎의 너비 정보이다.\n",
    "- Species 꽃의 종류 정보이다. setosa / versicolor / virginica의 3종류로 구분된다."
   ]
  },
  {
   "cell_type": "code",
   "execution_count": 13,
   "id": "diverse-spiritual",
   "metadata": {},
   "outputs": [
    {
     "data": {
      "text/plain": [
       "['data',\n",
       " 'target',\n",
       " 'frame',\n",
       " 'target_names',\n",
       " 'DESCR',\n",
       " 'feature_names',\n",
       " 'filename']"
      ]
     },
     "execution_count": 13,
     "metadata": {},
     "output_type": "execute_result"
    }
   ],
   "source": [
    "import numpy as np\n",
    "from sklearn import datasets\n",
    "iris = datasets.load_iris()\n",
    "list(iris.keys())"
   ]
  },
  {
   "cell_type": "code",
   "execution_count": 15,
   "id": "agreed-dividend",
   "metadata": {},
   "outputs": [
    {
     "data": {
      "text/plain": [
       "array(['setosa', 'versicolor', 'virginica'], dtype='<U10')"
      ]
     },
     "execution_count": 15,
     "metadata": {},
     "output_type": "execute_result"
    }
   ],
   "source": [
    "iris.target_names"
   ]
  },
  {
   "cell_type": "code",
   "execution_count": 16,
   "id": "saved-klein",
   "metadata": {},
   "outputs": [
    {
     "name": "stdout",
     "output_type": "stream",
     "text": [
      ".. _iris_dataset:\n",
      "\n",
      "Iris plants dataset\n",
      "--------------------\n",
      "\n",
      "**Data Set Characteristics:**\n",
      "\n",
      "    :Number of Instances: 150 (50 in each of three classes)\n",
      "    :Number of Attributes: 4 numeric, predictive attributes and the class\n",
      "    :Attribute Information:\n",
      "        - sepal length in cm\n",
      "        - sepal width in cm\n",
      "        - petal length in cm\n",
      "        - petal width in cm\n",
      "        - class:\n",
      "                - Iris-Setosa\n",
      "                - Iris-Versicolour\n",
      "                - Iris-Virginica\n",
      "                \n",
      "    :Summary Statistics:\n",
      "\n",
      "    ============== ==== ==== ======= ===== ====================\n",
      "                    Min  Max   Mean    SD   Class Correlation\n",
      "    ============== ==== ==== ======= ===== ====================\n",
      "    sepal length:   4.3  7.9   5.84   0.83    0.7826\n",
      "    sepal width:    2.0  4.4   3.05   0.43   -0.4194\n",
      "    petal length:   1.0  6.9   3.76   1.76    0.9490  (high!)\n",
      "    petal width:    0.1  2.5   1.20   0.76    0.9565  (high!)\n",
      "    ============== ==== ==== ======= ===== ====================\n",
      "\n",
      "    :Missing Attribute Values: None\n",
      "    :Class Distribution: 33.3% for each of 3 classes.\n",
      "    :Creator: R.A. Fisher\n",
      "    :Donor: Michael Marshall (MARSHALL%PLU@io.arc.nasa.gov)\n",
      "    :Date: July, 1988\n",
      "\n",
      "The famous Iris database, first used by Sir R.A. Fisher. The dataset is taken\n",
      "from Fisher's paper. Note that it's the same as in R, but not as in the UCI\n",
      "Machine Learning Repository, which has two wrong data points.\n",
      "\n",
      "This is perhaps the best known database to be found in the\n",
      "pattern recognition literature.  Fisher's paper is a classic in the field and\n",
      "is referenced frequently to this day.  (See Duda & Hart, for example.)  The\n",
      "data set contains 3 classes of 50 instances each, where each class refers to a\n",
      "type of iris plant.  One class is linearly separable from the other 2; the\n",
      "latter are NOT linearly separable from each other.\n",
      "\n",
      ".. topic:: References\n",
      "\n",
      "   - Fisher, R.A. \"The use of multiple measurements in taxonomic problems\"\n",
      "     Annual Eugenics, 7, Part II, 179-188 (1936); also in \"Contributions to\n",
      "     Mathematical Statistics\" (John Wiley, NY, 1950).\n",
      "   - Duda, R.O., & Hart, P.E. (1973) Pattern Classification and Scene Analysis.\n",
      "     (Q327.D83) John Wiley & Sons.  ISBN 0-471-22361-1.  See page 218.\n",
      "   - Dasarathy, B.V. (1980) \"Nosing Around the Neighborhood: A New System\n",
      "     Structure and Classification Rule for Recognition in Partially Exposed\n",
      "     Environments\".  IEEE Transactions on Pattern Analysis and Machine\n",
      "     Intelligence, Vol. PAMI-2, No. 1, 67-71.\n",
      "   - Gates, G.W. (1972) \"The Reduced Nearest Neighbor Rule\".  IEEE Transactions\n",
      "     on Information Theory, May 1972, 431-433.\n",
      "   - See also: 1988 MLC Proceedings, 54-64.  Cheeseman et al\"s AUTOCLASS II\n",
      "     conceptual clustering system finds 3 classes in the data.\n",
      "   - Many, many more ...\n"
     ]
    }
   ],
   "source": [
    "print(iris.DESCR)"
   ]
  },
  {
   "cell_type": "code",
   "execution_count": 17,
   "id": "utility-pillow",
   "metadata": {},
   "outputs": [],
   "source": [
    "X=iris['data'][:,3:] # 꽃잎의 너비\n",
    "# iris.data"
   ]
  },
  {
   "cell_type": "code",
   "execution_count": 18,
   "id": "sustainable-clinic",
   "metadata": {},
   "outputs": [],
   "source": [
    "y=(iris['target']==2).astype(np.int)"
   ]
  },
  {
   "cell_type": "code",
   "execution_count": 19,
   "id": "steady-swift",
   "metadata": {},
   "outputs": [
    {
     "data": {
      "text/plain": [
       "array([0, 0, 0, 0, 0, 0, 0, 0, 0, 0, 0, 0, 0, 0, 0, 0, 0, 0, 0, 0, 0, 0,\n",
       "       0, 0, 0, 0, 0, 0, 0, 0, 0, 0, 0, 0, 0, 0, 0, 0, 0, 0, 0, 0, 0, 0,\n",
       "       0, 0, 0, 0, 0, 0, 0, 0, 0, 0, 0, 0, 0, 0, 0, 0, 0, 0, 0, 0, 0, 0,\n",
       "       0, 0, 0, 0, 0, 0, 0, 0, 0, 0, 0, 0, 0, 0, 0, 0, 0, 0, 0, 0, 0, 0,\n",
       "       0, 0, 0, 0, 0, 0, 0, 0, 0, 0, 0, 0, 1, 1, 1, 1, 1, 1, 1, 1, 1, 1,\n",
       "       1, 1, 1, 1, 1, 1, 1, 1, 1, 1, 1, 1, 1, 1, 1, 1, 1, 1, 1, 1, 1, 1,\n",
       "       1, 1, 1, 1, 1, 1, 1, 1, 1, 1, 1, 1, 1, 1, 1, 1, 1, 1])"
      ]
     },
     "execution_count": 19,
     "metadata": {},
     "output_type": "execute_result"
    }
   ],
   "source": [
    "y"
   ]
  },
  {
   "cell_type": "code",
   "execution_count": 21,
   "id": "capable-humanitarian",
   "metadata": {},
   "outputs": [],
   "source": [
    "# 로지스틱 회귀분석\n",
    "from sklearn.linear_model import LogisticRegression\n",
    "\n",
    "log_reg=LogisticRegression()"
   ]
  },
  {
   "cell_type": "code",
   "execution_count": 22,
   "id": "settled-supply",
   "metadata": {},
   "outputs": [
    {
     "data": {
      "text/plain": [
       "LogisticRegression()"
      ]
     },
     "execution_count": 22,
     "metadata": {},
     "output_type": "execute_result"
    }
   ],
   "source": [
    "log_reg.fit(X,y)"
   ]
  },
  {
   "cell_type": "code",
   "execution_count": 23,
   "id": "noticed-principle",
   "metadata": {},
   "outputs": [],
   "source": [
    "# prediction\n",
    "\n",
    "X_new = np.linspace(0,3,1000).reshape(-1,1)"
   ]
  },
  {
   "cell_type": "code",
   "execution_count": 24,
   "id": "ruled-discharge",
   "metadata": {},
   "outputs": [
    {
     "data": {
      "text/plain": [
       "(1000, 1)"
      ]
     },
     "execution_count": 24,
     "metadata": {},
     "output_type": "execute_result"
    }
   ],
   "source": [
    "X_new.shape"
   ]
  },
  {
   "cell_type": "code",
   "execution_count": 25,
   "id": "assumed-fraud",
   "metadata": {},
   "outputs": [
    {
     "data": {
      "text/plain": [
       "array([[0.        ],\n",
       "       [0.003003  ],\n",
       "       [0.00600601],\n",
       "       [0.00900901],\n",
       "       [0.01201201],\n",
       "       [0.01501502],\n",
       "       [0.01801802],\n",
       "       [0.02102102],\n",
       "       [0.02402402],\n",
       "       [0.02702703],\n",
       "       [0.03003003],\n",
       "       [0.03303303],\n",
       "       [0.03603604],\n",
       "       [0.03903904],\n",
       "       [0.04204204],\n",
       "       [0.04504505],\n",
       "       [0.04804805],\n",
       "       [0.05105105],\n",
       "       [0.05405405],\n",
       "       [0.05705706],\n",
       "       [0.06006006],\n",
       "       [0.06306306],\n",
       "       [0.06606607],\n",
       "       [0.06906907],\n",
       "       [0.07207207],\n",
       "       [0.07507508],\n",
       "       [0.07807808],\n",
       "       [0.08108108],\n",
       "       [0.08408408],\n",
       "       [0.08708709],\n",
       "       [0.09009009],\n",
       "       [0.09309309],\n",
       "       [0.0960961 ],\n",
       "       [0.0990991 ],\n",
       "       [0.1021021 ],\n",
       "       [0.10510511],\n",
       "       [0.10810811],\n",
       "       [0.11111111],\n",
       "       [0.11411411],\n",
       "       [0.11711712],\n",
       "       [0.12012012],\n",
       "       [0.12312312],\n",
       "       [0.12612613],\n",
       "       [0.12912913],\n",
       "       [0.13213213],\n",
       "       [0.13513514],\n",
       "       [0.13813814],\n",
       "       [0.14114114],\n",
       "       [0.14414414],\n",
       "       [0.14714715],\n",
       "       [0.15015015],\n",
       "       [0.15315315],\n",
       "       [0.15615616],\n",
       "       [0.15915916],\n",
       "       [0.16216216],\n",
       "       [0.16516517],\n",
       "       [0.16816817],\n",
       "       [0.17117117],\n",
       "       [0.17417417],\n",
       "       [0.17717718],\n",
       "       [0.18018018],\n",
       "       [0.18318318],\n",
       "       [0.18618619],\n",
       "       [0.18918919],\n",
       "       [0.19219219],\n",
       "       [0.1951952 ],\n",
       "       [0.1981982 ],\n",
       "       [0.2012012 ],\n",
       "       [0.2042042 ],\n",
       "       [0.20720721],\n",
       "       [0.21021021],\n",
       "       [0.21321321],\n",
       "       [0.21621622],\n",
       "       [0.21921922],\n",
       "       [0.22222222],\n",
       "       [0.22522523],\n",
       "       [0.22822823],\n",
       "       [0.23123123],\n",
       "       [0.23423423],\n",
       "       [0.23723724],\n",
       "       [0.24024024],\n",
       "       [0.24324324],\n",
       "       [0.24624625],\n",
       "       [0.24924925],\n",
       "       [0.25225225],\n",
       "       [0.25525526],\n",
       "       [0.25825826],\n",
       "       [0.26126126],\n",
       "       [0.26426426],\n",
       "       [0.26726727],\n",
       "       [0.27027027],\n",
       "       [0.27327327],\n",
       "       [0.27627628],\n",
       "       [0.27927928],\n",
       "       [0.28228228],\n",
       "       [0.28528529],\n",
       "       [0.28828829],\n",
       "       [0.29129129],\n",
       "       [0.29429429],\n",
       "       [0.2972973 ],\n",
       "       [0.3003003 ],\n",
       "       [0.3033033 ],\n",
       "       [0.30630631],\n",
       "       [0.30930931],\n",
       "       [0.31231231],\n",
       "       [0.31531532],\n",
       "       [0.31831832],\n",
       "       [0.32132132],\n",
       "       [0.32432432],\n",
       "       [0.32732733],\n",
       "       [0.33033033],\n",
       "       [0.33333333],\n",
       "       [0.33633634],\n",
       "       [0.33933934],\n",
       "       [0.34234234],\n",
       "       [0.34534535],\n",
       "       [0.34834835],\n",
       "       [0.35135135],\n",
       "       [0.35435435],\n",
       "       [0.35735736],\n",
       "       [0.36036036],\n",
       "       [0.36336336],\n",
       "       [0.36636637],\n",
       "       [0.36936937],\n",
       "       [0.37237237],\n",
       "       [0.37537538],\n",
       "       [0.37837838],\n",
       "       [0.38138138],\n",
       "       [0.38438438],\n",
       "       [0.38738739],\n",
       "       [0.39039039],\n",
       "       [0.39339339],\n",
       "       [0.3963964 ],\n",
       "       [0.3993994 ],\n",
       "       [0.4024024 ],\n",
       "       [0.40540541],\n",
       "       [0.40840841],\n",
       "       [0.41141141],\n",
       "       [0.41441441],\n",
       "       [0.41741742],\n",
       "       [0.42042042],\n",
       "       [0.42342342],\n",
       "       [0.42642643],\n",
       "       [0.42942943],\n",
       "       [0.43243243],\n",
       "       [0.43543544],\n",
       "       [0.43843844],\n",
       "       [0.44144144],\n",
       "       [0.44444444],\n",
       "       [0.44744745],\n",
       "       [0.45045045],\n",
       "       [0.45345345],\n",
       "       [0.45645646],\n",
       "       [0.45945946],\n",
       "       [0.46246246],\n",
       "       [0.46546547],\n",
       "       [0.46846847],\n",
       "       [0.47147147],\n",
       "       [0.47447447],\n",
       "       [0.47747748],\n",
       "       [0.48048048],\n",
       "       [0.48348348],\n",
       "       [0.48648649],\n",
       "       [0.48948949],\n",
       "       [0.49249249],\n",
       "       [0.4954955 ],\n",
       "       [0.4984985 ],\n",
       "       [0.5015015 ],\n",
       "       [0.5045045 ],\n",
       "       [0.50750751],\n",
       "       [0.51051051],\n",
       "       [0.51351351],\n",
       "       [0.51651652],\n",
       "       [0.51951952],\n",
       "       [0.52252252],\n",
       "       [0.52552553],\n",
       "       [0.52852853],\n",
       "       [0.53153153],\n",
       "       [0.53453453],\n",
       "       [0.53753754],\n",
       "       [0.54054054],\n",
       "       [0.54354354],\n",
       "       [0.54654655],\n",
       "       [0.54954955],\n",
       "       [0.55255255],\n",
       "       [0.55555556],\n",
       "       [0.55855856],\n",
       "       [0.56156156],\n",
       "       [0.56456456],\n",
       "       [0.56756757],\n",
       "       [0.57057057],\n",
       "       [0.57357357],\n",
       "       [0.57657658],\n",
       "       [0.57957958],\n",
       "       [0.58258258],\n",
       "       [0.58558559],\n",
       "       [0.58858859],\n",
       "       [0.59159159],\n",
       "       [0.59459459],\n",
       "       [0.5975976 ],\n",
       "       [0.6006006 ],\n",
       "       [0.6036036 ],\n",
       "       [0.60660661],\n",
       "       [0.60960961],\n",
       "       [0.61261261],\n",
       "       [0.61561562],\n",
       "       [0.61861862],\n",
       "       [0.62162162],\n",
       "       [0.62462462],\n",
       "       [0.62762763],\n",
       "       [0.63063063],\n",
       "       [0.63363363],\n",
       "       [0.63663664],\n",
       "       [0.63963964],\n",
       "       [0.64264264],\n",
       "       [0.64564565],\n",
       "       [0.64864865],\n",
       "       [0.65165165],\n",
       "       [0.65465465],\n",
       "       [0.65765766],\n",
       "       [0.66066066],\n",
       "       [0.66366366],\n",
       "       [0.66666667],\n",
       "       [0.66966967],\n",
       "       [0.67267267],\n",
       "       [0.67567568],\n",
       "       [0.67867868],\n",
       "       [0.68168168],\n",
       "       [0.68468468],\n",
       "       [0.68768769],\n",
       "       [0.69069069],\n",
       "       [0.69369369],\n",
       "       [0.6966967 ],\n",
       "       [0.6996997 ],\n",
       "       [0.7027027 ],\n",
       "       [0.70570571],\n",
       "       [0.70870871],\n",
       "       [0.71171171],\n",
       "       [0.71471471],\n",
       "       [0.71771772],\n",
       "       [0.72072072],\n",
       "       [0.72372372],\n",
       "       [0.72672673],\n",
       "       [0.72972973],\n",
       "       [0.73273273],\n",
       "       [0.73573574],\n",
       "       [0.73873874],\n",
       "       [0.74174174],\n",
       "       [0.74474474],\n",
       "       [0.74774775],\n",
       "       [0.75075075],\n",
       "       [0.75375375],\n",
       "       [0.75675676],\n",
       "       [0.75975976],\n",
       "       [0.76276276],\n",
       "       [0.76576577],\n",
       "       [0.76876877],\n",
       "       [0.77177177],\n",
       "       [0.77477477],\n",
       "       [0.77777778],\n",
       "       [0.78078078],\n",
       "       [0.78378378],\n",
       "       [0.78678679],\n",
       "       [0.78978979],\n",
       "       [0.79279279],\n",
       "       [0.7957958 ],\n",
       "       [0.7987988 ],\n",
       "       [0.8018018 ],\n",
       "       [0.8048048 ],\n",
       "       [0.80780781],\n",
       "       [0.81081081],\n",
       "       [0.81381381],\n",
       "       [0.81681682],\n",
       "       [0.81981982],\n",
       "       [0.82282282],\n",
       "       [0.82582583],\n",
       "       [0.82882883],\n",
       "       [0.83183183],\n",
       "       [0.83483483],\n",
       "       [0.83783784],\n",
       "       [0.84084084],\n",
       "       [0.84384384],\n",
       "       [0.84684685],\n",
       "       [0.84984985],\n",
       "       [0.85285285],\n",
       "       [0.85585586],\n",
       "       [0.85885886],\n",
       "       [0.86186186],\n",
       "       [0.86486486],\n",
       "       [0.86786787],\n",
       "       [0.87087087],\n",
       "       [0.87387387],\n",
       "       [0.87687688],\n",
       "       [0.87987988],\n",
       "       [0.88288288],\n",
       "       [0.88588589],\n",
       "       [0.88888889],\n",
       "       [0.89189189],\n",
       "       [0.89489489],\n",
       "       [0.8978979 ],\n",
       "       [0.9009009 ],\n",
       "       [0.9039039 ],\n",
       "       [0.90690691],\n",
       "       [0.90990991],\n",
       "       [0.91291291],\n",
       "       [0.91591592],\n",
       "       [0.91891892],\n",
       "       [0.92192192],\n",
       "       [0.92492492],\n",
       "       [0.92792793],\n",
       "       [0.93093093],\n",
       "       [0.93393393],\n",
       "       [0.93693694],\n",
       "       [0.93993994],\n",
       "       [0.94294294],\n",
       "       [0.94594595],\n",
       "       [0.94894895],\n",
       "       [0.95195195],\n",
       "       [0.95495495],\n",
       "       [0.95795796],\n",
       "       [0.96096096],\n",
       "       [0.96396396],\n",
       "       [0.96696697],\n",
       "       [0.96996997],\n",
       "       [0.97297297],\n",
       "       [0.97597598],\n",
       "       [0.97897898],\n",
       "       [0.98198198],\n",
       "       [0.98498498],\n",
       "       [0.98798799],\n",
       "       [0.99099099],\n",
       "       [0.99399399],\n",
       "       [0.996997  ],\n",
       "       [1.        ],\n",
       "       [1.003003  ],\n",
       "       [1.00600601],\n",
       "       [1.00900901],\n",
       "       [1.01201201],\n",
       "       [1.01501502],\n",
       "       [1.01801802],\n",
       "       [1.02102102],\n",
       "       [1.02402402],\n",
       "       [1.02702703],\n",
       "       [1.03003003],\n",
       "       [1.03303303],\n",
       "       [1.03603604],\n",
       "       [1.03903904],\n",
       "       [1.04204204],\n",
       "       [1.04504505],\n",
       "       [1.04804805],\n",
       "       [1.05105105],\n",
       "       [1.05405405],\n",
       "       [1.05705706],\n",
       "       [1.06006006],\n",
       "       [1.06306306],\n",
       "       [1.06606607],\n",
       "       [1.06906907],\n",
       "       [1.07207207],\n",
       "       [1.07507508],\n",
       "       [1.07807808],\n",
       "       [1.08108108],\n",
       "       [1.08408408],\n",
       "       [1.08708709],\n",
       "       [1.09009009],\n",
       "       [1.09309309],\n",
       "       [1.0960961 ],\n",
       "       [1.0990991 ],\n",
       "       [1.1021021 ],\n",
       "       [1.10510511],\n",
       "       [1.10810811],\n",
       "       [1.11111111],\n",
       "       [1.11411411],\n",
       "       [1.11711712],\n",
       "       [1.12012012],\n",
       "       [1.12312312],\n",
       "       [1.12612613],\n",
       "       [1.12912913],\n",
       "       [1.13213213],\n",
       "       [1.13513514],\n",
       "       [1.13813814],\n",
       "       [1.14114114],\n",
       "       [1.14414414],\n",
       "       [1.14714715],\n",
       "       [1.15015015],\n",
       "       [1.15315315],\n",
       "       [1.15615616],\n",
       "       [1.15915916],\n",
       "       [1.16216216],\n",
       "       [1.16516517],\n",
       "       [1.16816817],\n",
       "       [1.17117117],\n",
       "       [1.17417417],\n",
       "       [1.17717718],\n",
       "       [1.18018018],\n",
       "       [1.18318318],\n",
       "       [1.18618619],\n",
       "       [1.18918919],\n",
       "       [1.19219219],\n",
       "       [1.1951952 ],\n",
       "       [1.1981982 ],\n",
       "       [1.2012012 ],\n",
       "       [1.2042042 ],\n",
       "       [1.20720721],\n",
       "       [1.21021021],\n",
       "       [1.21321321],\n",
       "       [1.21621622],\n",
       "       [1.21921922],\n",
       "       [1.22222222],\n",
       "       [1.22522523],\n",
       "       [1.22822823],\n",
       "       [1.23123123],\n",
       "       [1.23423423],\n",
       "       [1.23723724],\n",
       "       [1.24024024],\n",
       "       [1.24324324],\n",
       "       [1.24624625],\n",
       "       [1.24924925],\n",
       "       [1.25225225],\n",
       "       [1.25525526],\n",
       "       [1.25825826],\n",
       "       [1.26126126],\n",
       "       [1.26426426],\n",
       "       [1.26726727],\n",
       "       [1.27027027],\n",
       "       [1.27327327],\n",
       "       [1.27627628],\n",
       "       [1.27927928],\n",
       "       [1.28228228],\n",
       "       [1.28528529],\n",
       "       [1.28828829],\n",
       "       [1.29129129],\n",
       "       [1.29429429],\n",
       "       [1.2972973 ],\n",
       "       [1.3003003 ],\n",
       "       [1.3033033 ],\n",
       "       [1.30630631],\n",
       "       [1.30930931],\n",
       "       [1.31231231],\n",
       "       [1.31531532],\n",
       "       [1.31831832],\n",
       "       [1.32132132],\n",
       "       [1.32432432],\n",
       "       [1.32732733],\n",
       "       [1.33033033],\n",
       "       [1.33333333],\n",
       "       [1.33633634],\n",
       "       [1.33933934],\n",
       "       [1.34234234],\n",
       "       [1.34534535],\n",
       "       [1.34834835],\n",
       "       [1.35135135],\n",
       "       [1.35435435],\n",
       "       [1.35735736],\n",
       "       [1.36036036],\n",
       "       [1.36336336],\n",
       "       [1.36636637],\n",
       "       [1.36936937],\n",
       "       [1.37237237],\n",
       "       [1.37537538],\n",
       "       [1.37837838],\n",
       "       [1.38138138],\n",
       "       [1.38438438],\n",
       "       [1.38738739],\n",
       "       [1.39039039],\n",
       "       [1.39339339],\n",
       "       [1.3963964 ],\n",
       "       [1.3993994 ],\n",
       "       [1.4024024 ],\n",
       "       [1.40540541],\n",
       "       [1.40840841],\n",
       "       [1.41141141],\n",
       "       [1.41441441],\n",
       "       [1.41741742],\n",
       "       [1.42042042],\n",
       "       [1.42342342],\n",
       "       [1.42642643],\n",
       "       [1.42942943],\n",
       "       [1.43243243],\n",
       "       [1.43543544],\n",
       "       [1.43843844],\n",
       "       [1.44144144],\n",
       "       [1.44444444],\n",
       "       [1.44744745],\n",
       "       [1.45045045],\n",
       "       [1.45345345],\n",
       "       [1.45645646],\n",
       "       [1.45945946],\n",
       "       [1.46246246],\n",
       "       [1.46546547],\n",
       "       [1.46846847],\n",
       "       [1.47147147],\n",
       "       [1.47447447],\n",
       "       [1.47747748],\n",
       "       [1.48048048],\n",
       "       [1.48348348],\n",
       "       [1.48648649],\n",
       "       [1.48948949],\n",
       "       [1.49249249],\n",
       "       [1.4954955 ],\n",
       "       [1.4984985 ],\n",
       "       [1.5015015 ],\n",
       "       [1.5045045 ],\n",
       "       [1.50750751],\n",
       "       [1.51051051],\n",
       "       [1.51351351],\n",
       "       [1.51651652],\n",
       "       [1.51951952],\n",
       "       [1.52252252],\n",
       "       [1.52552553],\n",
       "       [1.52852853],\n",
       "       [1.53153153],\n",
       "       [1.53453453],\n",
       "       [1.53753754],\n",
       "       [1.54054054],\n",
       "       [1.54354354],\n",
       "       [1.54654655],\n",
       "       [1.54954955],\n",
       "       [1.55255255],\n",
       "       [1.55555556],\n",
       "       [1.55855856],\n",
       "       [1.56156156],\n",
       "       [1.56456456],\n",
       "       [1.56756757],\n",
       "       [1.57057057],\n",
       "       [1.57357357],\n",
       "       [1.57657658],\n",
       "       [1.57957958],\n",
       "       [1.58258258],\n",
       "       [1.58558559],\n",
       "       [1.58858859],\n",
       "       [1.59159159],\n",
       "       [1.59459459],\n",
       "       [1.5975976 ],\n",
       "       [1.6006006 ],\n",
       "       [1.6036036 ],\n",
       "       [1.60660661],\n",
       "       [1.60960961],\n",
       "       [1.61261261],\n",
       "       [1.61561562],\n",
       "       [1.61861862],\n",
       "       [1.62162162],\n",
       "       [1.62462462],\n",
       "       [1.62762763],\n",
       "       [1.63063063],\n",
       "       [1.63363363],\n",
       "       [1.63663664],\n",
       "       [1.63963964],\n",
       "       [1.64264264],\n",
       "       [1.64564565],\n",
       "       [1.64864865],\n",
       "       [1.65165165],\n",
       "       [1.65465465],\n",
       "       [1.65765766],\n",
       "       [1.66066066],\n",
       "       [1.66366366],\n",
       "       [1.66666667],\n",
       "       [1.66966967],\n",
       "       [1.67267267],\n",
       "       [1.67567568],\n",
       "       [1.67867868],\n",
       "       [1.68168168],\n",
       "       [1.68468468],\n",
       "       [1.68768769],\n",
       "       [1.69069069],\n",
       "       [1.69369369],\n",
       "       [1.6966967 ],\n",
       "       [1.6996997 ],\n",
       "       [1.7027027 ],\n",
       "       [1.70570571],\n",
       "       [1.70870871],\n",
       "       [1.71171171],\n",
       "       [1.71471471],\n",
       "       [1.71771772],\n",
       "       [1.72072072],\n",
       "       [1.72372372],\n",
       "       [1.72672673],\n",
       "       [1.72972973],\n",
       "       [1.73273273],\n",
       "       [1.73573574],\n",
       "       [1.73873874],\n",
       "       [1.74174174],\n",
       "       [1.74474474],\n",
       "       [1.74774775],\n",
       "       [1.75075075],\n",
       "       [1.75375375],\n",
       "       [1.75675676],\n",
       "       [1.75975976],\n",
       "       [1.76276276],\n",
       "       [1.76576577],\n",
       "       [1.76876877],\n",
       "       [1.77177177],\n",
       "       [1.77477477],\n",
       "       [1.77777778],\n",
       "       [1.78078078],\n",
       "       [1.78378378],\n",
       "       [1.78678679],\n",
       "       [1.78978979],\n",
       "       [1.79279279],\n",
       "       [1.7957958 ],\n",
       "       [1.7987988 ],\n",
       "       [1.8018018 ],\n",
       "       [1.8048048 ],\n",
       "       [1.80780781],\n",
       "       [1.81081081],\n",
       "       [1.81381381],\n",
       "       [1.81681682],\n",
       "       [1.81981982],\n",
       "       [1.82282282],\n",
       "       [1.82582583],\n",
       "       [1.82882883],\n",
       "       [1.83183183],\n",
       "       [1.83483483],\n",
       "       [1.83783784],\n",
       "       [1.84084084],\n",
       "       [1.84384384],\n",
       "       [1.84684685],\n",
       "       [1.84984985],\n",
       "       [1.85285285],\n",
       "       [1.85585586],\n",
       "       [1.85885886],\n",
       "       [1.86186186],\n",
       "       [1.86486486],\n",
       "       [1.86786787],\n",
       "       [1.87087087],\n",
       "       [1.87387387],\n",
       "       [1.87687688],\n",
       "       [1.87987988],\n",
       "       [1.88288288],\n",
       "       [1.88588589],\n",
       "       [1.88888889],\n",
       "       [1.89189189],\n",
       "       [1.89489489],\n",
       "       [1.8978979 ],\n",
       "       [1.9009009 ],\n",
       "       [1.9039039 ],\n",
       "       [1.90690691],\n",
       "       [1.90990991],\n",
       "       [1.91291291],\n",
       "       [1.91591592],\n",
       "       [1.91891892],\n",
       "       [1.92192192],\n",
       "       [1.92492492],\n",
       "       [1.92792793],\n",
       "       [1.93093093],\n",
       "       [1.93393393],\n",
       "       [1.93693694],\n",
       "       [1.93993994],\n",
       "       [1.94294294],\n",
       "       [1.94594595],\n",
       "       [1.94894895],\n",
       "       [1.95195195],\n",
       "       [1.95495495],\n",
       "       [1.95795796],\n",
       "       [1.96096096],\n",
       "       [1.96396396],\n",
       "       [1.96696697],\n",
       "       [1.96996997],\n",
       "       [1.97297297],\n",
       "       [1.97597598],\n",
       "       [1.97897898],\n",
       "       [1.98198198],\n",
       "       [1.98498498],\n",
       "       [1.98798799],\n",
       "       [1.99099099],\n",
       "       [1.99399399],\n",
       "       [1.996997  ],\n",
       "       [2.        ],\n",
       "       [2.003003  ],\n",
       "       [2.00600601],\n",
       "       [2.00900901],\n",
       "       [2.01201201],\n",
       "       [2.01501502],\n",
       "       [2.01801802],\n",
       "       [2.02102102],\n",
       "       [2.02402402],\n",
       "       [2.02702703],\n",
       "       [2.03003003],\n",
       "       [2.03303303],\n",
       "       [2.03603604],\n",
       "       [2.03903904],\n",
       "       [2.04204204],\n",
       "       [2.04504505],\n",
       "       [2.04804805],\n",
       "       [2.05105105],\n",
       "       [2.05405405],\n",
       "       [2.05705706],\n",
       "       [2.06006006],\n",
       "       [2.06306306],\n",
       "       [2.06606607],\n",
       "       [2.06906907],\n",
       "       [2.07207207],\n",
       "       [2.07507508],\n",
       "       [2.07807808],\n",
       "       [2.08108108],\n",
       "       [2.08408408],\n",
       "       [2.08708709],\n",
       "       [2.09009009],\n",
       "       [2.09309309],\n",
       "       [2.0960961 ],\n",
       "       [2.0990991 ],\n",
       "       [2.1021021 ],\n",
       "       [2.10510511],\n",
       "       [2.10810811],\n",
       "       [2.11111111],\n",
       "       [2.11411411],\n",
       "       [2.11711712],\n",
       "       [2.12012012],\n",
       "       [2.12312312],\n",
       "       [2.12612613],\n",
       "       [2.12912913],\n",
       "       [2.13213213],\n",
       "       [2.13513514],\n",
       "       [2.13813814],\n",
       "       [2.14114114],\n",
       "       [2.14414414],\n",
       "       [2.14714715],\n",
       "       [2.15015015],\n",
       "       [2.15315315],\n",
       "       [2.15615616],\n",
       "       [2.15915916],\n",
       "       [2.16216216],\n",
       "       [2.16516517],\n",
       "       [2.16816817],\n",
       "       [2.17117117],\n",
       "       [2.17417417],\n",
       "       [2.17717718],\n",
       "       [2.18018018],\n",
       "       [2.18318318],\n",
       "       [2.18618619],\n",
       "       [2.18918919],\n",
       "       [2.19219219],\n",
       "       [2.1951952 ],\n",
       "       [2.1981982 ],\n",
       "       [2.2012012 ],\n",
       "       [2.2042042 ],\n",
       "       [2.20720721],\n",
       "       [2.21021021],\n",
       "       [2.21321321],\n",
       "       [2.21621622],\n",
       "       [2.21921922],\n",
       "       [2.22222222],\n",
       "       [2.22522523],\n",
       "       [2.22822823],\n",
       "       [2.23123123],\n",
       "       [2.23423423],\n",
       "       [2.23723724],\n",
       "       [2.24024024],\n",
       "       [2.24324324],\n",
       "       [2.24624625],\n",
       "       [2.24924925],\n",
       "       [2.25225225],\n",
       "       [2.25525526],\n",
       "       [2.25825826],\n",
       "       [2.26126126],\n",
       "       [2.26426426],\n",
       "       [2.26726727],\n",
       "       [2.27027027],\n",
       "       [2.27327327],\n",
       "       [2.27627628],\n",
       "       [2.27927928],\n",
       "       [2.28228228],\n",
       "       [2.28528529],\n",
       "       [2.28828829],\n",
       "       [2.29129129],\n",
       "       [2.29429429],\n",
       "       [2.2972973 ],\n",
       "       [2.3003003 ],\n",
       "       [2.3033033 ],\n",
       "       [2.30630631],\n",
       "       [2.30930931],\n",
       "       [2.31231231],\n",
       "       [2.31531532],\n",
       "       [2.31831832],\n",
       "       [2.32132132],\n",
       "       [2.32432432],\n",
       "       [2.32732733],\n",
       "       [2.33033033],\n",
       "       [2.33333333],\n",
       "       [2.33633634],\n",
       "       [2.33933934],\n",
       "       [2.34234234],\n",
       "       [2.34534535],\n",
       "       [2.34834835],\n",
       "       [2.35135135],\n",
       "       [2.35435435],\n",
       "       [2.35735736],\n",
       "       [2.36036036],\n",
       "       [2.36336336],\n",
       "       [2.36636637],\n",
       "       [2.36936937],\n",
       "       [2.37237237],\n",
       "       [2.37537538],\n",
       "       [2.37837838],\n",
       "       [2.38138138],\n",
       "       [2.38438438],\n",
       "       [2.38738739],\n",
       "       [2.39039039],\n",
       "       [2.39339339],\n",
       "       [2.3963964 ],\n",
       "       [2.3993994 ],\n",
       "       [2.4024024 ],\n",
       "       [2.40540541],\n",
       "       [2.40840841],\n",
       "       [2.41141141],\n",
       "       [2.41441441],\n",
       "       [2.41741742],\n",
       "       [2.42042042],\n",
       "       [2.42342342],\n",
       "       [2.42642643],\n",
       "       [2.42942943],\n",
       "       [2.43243243],\n",
       "       [2.43543544],\n",
       "       [2.43843844],\n",
       "       [2.44144144],\n",
       "       [2.44444444],\n",
       "       [2.44744745],\n",
       "       [2.45045045],\n",
       "       [2.45345345],\n",
       "       [2.45645646],\n",
       "       [2.45945946],\n",
       "       [2.46246246],\n",
       "       [2.46546547],\n",
       "       [2.46846847],\n",
       "       [2.47147147],\n",
       "       [2.47447447],\n",
       "       [2.47747748],\n",
       "       [2.48048048],\n",
       "       [2.48348348],\n",
       "       [2.48648649],\n",
       "       [2.48948949],\n",
       "       [2.49249249],\n",
       "       [2.4954955 ],\n",
       "       [2.4984985 ],\n",
       "       [2.5015015 ],\n",
       "       [2.5045045 ],\n",
       "       [2.50750751],\n",
       "       [2.51051051],\n",
       "       [2.51351351],\n",
       "       [2.51651652],\n",
       "       [2.51951952],\n",
       "       [2.52252252],\n",
       "       [2.52552553],\n",
       "       [2.52852853],\n",
       "       [2.53153153],\n",
       "       [2.53453453],\n",
       "       [2.53753754],\n",
       "       [2.54054054],\n",
       "       [2.54354354],\n",
       "       [2.54654655],\n",
       "       [2.54954955],\n",
       "       [2.55255255],\n",
       "       [2.55555556],\n",
       "       [2.55855856],\n",
       "       [2.56156156],\n",
       "       [2.56456456],\n",
       "       [2.56756757],\n",
       "       [2.57057057],\n",
       "       [2.57357357],\n",
       "       [2.57657658],\n",
       "       [2.57957958],\n",
       "       [2.58258258],\n",
       "       [2.58558559],\n",
       "       [2.58858859],\n",
       "       [2.59159159],\n",
       "       [2.59459459],\n",
       "       [2.5975976 ],\n",
       "       [2.6006006 ],\n",
       "       [2.6036036 ],\n",
       "       [2.60660661],\n",
       "       [2.60960961],\n",
       "       [2.61261261],\n",
       "       [2.61561562],\n",
       "       [2.61861862],\n",
       "       [2.62162162],\n",
       "       [2.62462462],\n",
       "       [2.62762763],\n",
       "       [2.63063063],\n",
       "       [2.63363363],\n",
       "       [2.63663664],\n",
       "       [2.63963964],\n",
       "       [2.64264264],\n",
       "       [2.64564565],\n",
       "       [2.64864865],\n",
       "       [2.65165165],\n",
       "       [2.65465465],\n",
       "       [2.65765766],\n",
       "       [2.66066066],\n",
       "       [2.66366366],\n",
       "       [2.66666667],\n",
       "       [2.66966967],\n",
       "       [2.67267267],\n",
       "       [2.67567568],\n",
       "       [2.67867868],\n",
       "       [2.68168168],\n",
       "       [2.68468468],\n",
       "       [2.68768769],\n",
       "       [2.69069069],\n",
       "       [2.69369369],\n",
       "       [2.6966967 ],\n",
       "       [2.6996997 ],\n",
       "       [2.7027027 ],\n",
       "       [2.70570571],\n",
       "       [2.70870871],\n",
       "       [2.71171171],\n",
       "       [2.71471471],\n",
       "       [2.71771772],\n",
       "       [2.72072072],\n",
       "       [2.72372372],\n",
       "       [2.72672673],\n",
       "       [2.72972973],\n",
       "       [2.73273273],\n",
       "       [2.73573574],\n",
       "       [2.73873874],\n",
       "       [2.74174174],\n",
       "       [2.74474474],\n",
       "       [2.74774775],\n",
       "       [2.75075075],\n",
       "       [2.75375375],\n",
       "       [2.75675676],\n",
       "       [2.75975976],\n",
       "       [2.76276276],\n",
       "       [2.76576577],\n",
       "       [2.76876877],\n",
       "       [2.77177177],\n",
       "       [2.77477477],\n",
       "       [2.77777778],\n",
       "       [2.78078078],\n",
       "       [2.78378378],\n",
       "       [2.78678679],\n",
       "       [2.78978979],\n",
       "       [2.79279279],\n",
       "       [2.7957958 ],\n",
       "       [2.7987988 ],\n",
       "       [2.8018018 ],\n",
       "       [2.8048048 ],\n",
       "       [2.80780781],\n",
       "       [2.81081081],\n",
       "       [2.81381381],\n",
       "       [2.81681682],\n",
       "       [2.81981982],\n",
       "       [2.82282282],\n",
       "       [2.82582583],\n",
       "       [2.82882883],\n",
       "       [2.83183183],\n",
       "       [2.83483483],\n",
       "       [2.83783784],\n",
       "       [2.84084084],\n",
       "       [2.84384384],\n",
       "       [2.84684685],\n",
       "       [2.84984985],\n",
       "       [2.85285285],\n",
       "       [2.85585586],\n",
       "       [2.85885886],\n",
       "       [2.86186186],\n",
       "       [2.86486486],\n",
       "       [2.86786787],\n",
       "       [2.87087087],\n",
       "       [2.87387387],\n",
       "       [2.87687688],\n",
       "       [2.87987988],\n",
       "       [2.88288288],\n",
       "       [2.88588589],\n",
       "       [2.88888889],\n",
       "       [2.89189189],\n",
       "       [2.89489489],\n",
       "       [2.8978979 ],\n",
       "       [2.9009009 ],\n",
       "       [2.9039039 ],\n",
       "       [2.90690691],\n",
       "       [2.90990991],\n",
       "       [2.91291291],\n",
       "       [2.91591592],\n",
       "       [2.91891892],\n",
       "       [2.92192192],\n",
       "       [2.92492492],\n",
       "       [2.92792793],\n",
       "       [2.93093093],\n",
       "       [2.93393393],\n",
       "       [2.93693694],\n",
       "       [2.93993994],\n",
       "       [2.94294294],\n",
       "       [2.94594595],\n",
       "       [2.94894895],\n",
       "       [2.95195195],\n",
       "       [2.95495495],\n",
       "       [2.95795796],\n",
       "       [2.96096096],\n",
       "       [2.96396396],\n",
       "       [2.96696697],\n",
       "       [2.96996997],\n",
       "       [2.97297297],\n",
       "       [2.97597598],\n",
       "       [2.97897898],\n",
       "       [2.98198198],\n",
       "       [2.98498498],\n",
       "       [2.98798799],\n",
       "       [2.99099099],\n",
       "       [2.99399399],\n",
       "       [2.996997  ],\n",
       "       [3.        ]])"
      ]
     },
     "execution_count": 25,
     "metadata": {},
     "output_type": "execute_result"
    }
   ],
   "source": [
    "X_new"
   ]
  },
  {
   "cell_type": "code",
   "execution_count": 26,
   "id": "potential-adaptation",
   "metadata": {},
   "outputs": [],
   "source": [
    "y_proba = log_reg.predict_proba(X_new) # 1000 observations.. -> 1000 probabilities.."
   ]
  },
  {
   "cell_type": "code",
   "execution_count": 27,
   "id": "unexpected-norman",
   "metadata": {},
   "outputs": [
    {
     "data": {
      "text/plain": [
       "array([[9.99250016e-01, 7.49984089e-04],\n",
       "       [9.99240201e-01, 7.59799387e-04],\n",
       "       [9.99230257e-01, 7.69743043e-04],\n",
       "       ...,\n",
       "       [3.08374822e-03, 9.96916252e-01],\n",
       "       [3.04400296e-03, 9.96955997e-01],\n",
       "       [3.00476842e-03, 9.96995232e-01]])"
      ]
     },
     "execution_count": 27,
     "metadata": {},
     "output_type": "execute_result"
    }
   ],
   "source": [
    "y_proba"
   ]
  },
  {
   "cell_type": "code",
   "execution_count": 30,
   "id": "derived-original",
   "metadata": {},
   "outputs": [
    {
     "data": {
      "image/png": "[encoded data removed]",
      "text/plain": [
       "<Figure size 432x288 with 1 Axes>"
      ]
     },
     "metadata": {
      "needs_background": "light"
     },
     "output_type": "display_data"
    }
   ],
   "source": [
    "import matplotlib.pyplot as plt\n",
    "plt.plot(X_new, y_proba[:,1],'g-',label='Iris-Virginica')\n",
    "plt.plot(X_new, y_proba[:,0],'b--',label='Iris-Virginica 아님')\n",
    "plt.show()"
   ]
  },
  {
   "cell_type": "code",
   "execution_count": 32,
   "id": "outside-currency",
   "metadata": {},
   "outputs": [],
   "source": [
    "decision_boundary = X_new[y_proba[:,1] >= 0.5][0]"
   ]
  },
  {
   "cell_type": "code",
   "execution_count": 33,
   "id": "printable-asbestos",
   "metadata": {},
   "outputs": [
    {
     "data": {
      "text/plain": [
       "array([1.66066066])"
      ]
     },
     "execution_count": 33,
     "metadata": {},
     "output_type": "execute_result"
    }
   ],
   "source": [
    "decision_boundary"
   ]
  },
  {
   "cell_type": "code",
   "execution_count": 34,
   "id": "assisted-illness",
   "metadata": {},
   "outputs": [
    {
     "data": {
      "text/plain": [
       "array([1, 0])"
      ]
     },
     "execution_count": 34,
     "metadata": {},
     "output_type": "execute_result"
    }
   ],
   "source": [
    "log_reg.predict([[1.7],[1.5]])"
   ]
  },
  {
   "cell_type": "markdown",
   "id": "assigned-hometown",
   "metadata": {},
   "source": [
    "로지스틱 회귀에서의 rasso, ridge는 비용함수만 로지스틱 회귀 비용함수로 바꿔주면 가능"
   ]
  },
  {
   "cell_type": "code",
   "execution_count": 35,
   "id": "inside-puzzle",
   "metadata": {},
   "outputs": [
    {
     "data": {
      "text/plain": [
       "LogisticRegression(C=1)"
      ]
     },
     "execution_count": 35,
     "metadata": {},
     "output_type": "execute_result"
    }
   ],
   "source": [
    "LogisticRegression(C=1)"
   ]
  },
  {
   "cell_type": "code",
   "execution_count": null,
   "id": "acknowledged-inspector",
   "metadata": {},
   "outputs": [],
   "source": []
  }
 ],
 "metadata": {
  "kernelspec": {
   "display_name": "Python 3",
   "language": "python",
   "name": "python3"
  },
  "language_info": {
   "codemirror_mode": {
    "name": "ipython",
    "version": 3
   },
   "file_extension": ".py",
   "mimetype": "text/x-python",
   "name": "python",
   "nbconvert_exporter": "python",
   "pygments_lexer": "ipython3",
   "version": "3.8.8"
  }
 },
 "nbformat": 4,
 "nbformat_minor": 5
}
